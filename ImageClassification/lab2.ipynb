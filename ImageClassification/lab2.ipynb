{
  "nbformat": 4,
  "nbformat_minor": 0,
  "metadata": {
    "colab": {
      "provenance": []
    },
    "kernelspec": {
      "name": "python3",
      "display_name": "Python 3"
    },
    "accelerator": "GPU",
    "gpuClass": "standard"
  },
  "cells": [
    {
      "cell_type": "markdown",
      "metadata": {
        "id": "wmCbxoDrADcF"
      },
      "source": [
        "# Google Colab setup with Google Drive folder\n",
        "\n",
        "This notebook provides the code you need to set up Google Colab to run and import files from within a Google Drive folder.\n",
        "\n",
        "This will allow you to upload assignment code to your Google Drive and then run the code on Google Colab machines (with free GPUs if needed). \n",
        "\n",
        "You will need to create a folder in your Google Drive to hold your assignments and you will need to open Colaboratory within this folder before running the set up code (check the link above to see how)."
      ]
    },
    {
      "cell_type": "markdown",
      "metadata": {
        "id": "zWhrmhqVCyGH"
      },
      "source": [
        "# Mount Google Drive\n",
        "\n",
        "This will allow the Colab machine to access Google Drive folders by mounting the drive on the machine. You will be asked to copy and paste an authentication code."
      ]
    },
    {
      "cell_type": "code",
      "metadata": {
        "id": "Wv2oKmF9AJtI",
        "colab": {
          "base_uri": "https://localhost:8080/"
        },
        "outputId": "07cc02f0-7b7f-4222-9ef8-eae1e802d2b9"
      },
      "source": [
        "from google.colab import drive\n",
        "drive.mount('/content/gdrive/')"
      ],
      "execution_count": 3,
      "outputs": [
        {
          "output_type": "stream",
          "name": "stdout",
          "text": [
            "Mounted at /content/gdrive/\n"
          ]
        }
      ]
    },
    {
      "cell_type": "code",
      "metadata": {
        "id": "kKGxaMcmP_Et",
        "colab": {
          "base_uri": "https://localhost:8080/"
        },
        "outputId": "f7d2dcf8-7352-41cf-d6de-b89022c345c8"
      },
      "source": [
        "ls"
      ],
      "execution_count": null,
      "outputs": [
        {
          "output_type": "stream",
          "name": "stdout",
          "text": [
            "\u001b[0m\u001b[01;34mgdrive\u001b[0m/  \u001b[01;34msample_data\u001b[0m/\n"
          ]
        }
      ]
    },
    {
      "cell_type": "markdown",
      "metadata": {
        "id": "4Qs04PPwDOFy"
      },
      "source": [
        "# Change directory to allow imports\n",
        "\n",
        "\n",
        "As noted above, you should create a Google Drive folder to hold all your assignment files. You will need to add this code to the top of any python notebook you run to be able to import python files from your drive assignment folder (you should change the file path below to be your own assignment folder). Following the hand-out, you should have a directory \"SFU_CMPT_CV_lab2\" on g-drive, which should have a directory \"data\", which contains three tar.gz files."
      ]
    },
    {
      "cell_type": "code",
      "metadata": {
        "id": "UA2-UyfpEc9O"
      },
      "source": [
        "import os\n",
        "os.chdir(\"/content/gdrive/My Drive/SFU_CMPT_CV_lab2\")"
      ],
      "execution_count": 4,
      "outputs": []
    },
    {
      "cell_type": "code",
      "metadata": {
        "id": "gyRCWAIyRHWc",
        "colab": {
          "base_uri": "https://localhost:8080/"
        },
        "outputId": "d34e11cb-1dcf-4592-f8a0-49644da32224"
      },
      "source": [
        "ls # Check if this is your folder"
      ],
      "execution_count": null,
      "outputs": [
        {
          "output_type": "stream",
          "name": "stdout",
          "text": [
            "\u001b[0m\u001b[01;34mdata\u001b[0m/  plot.png  submission_netid.csv\n"
          ]
        }
      ]
    },
    {
      "cell_type": "markdown",
      "metadata": {
        "id": "SJOCaUMilRz_"
      },
      "source": [
        "# Copy data to local dir"
      ]
    },
    {
      "cell_type": "code",
      "metadata": {
        "id": "90MxG_eRla0W"
      },
      "source": [
        "!mkdir /data\n",
        "!cp data/cifar100.tar.gz /data/\n",
        "!tar -xf /data/cifar100.tar.gz -C /data/\n",
        "!cp data/test.tar.gz /data\n",
        "!tar -xf /data/test.tar.gz -C /data\n",
        "!cp data/train.tar.gz /data\n",
        "!tar -xf /data/train.tar.gz -C /data/"
      ],
      "execution_count": 5,
      "outputs": []
    },
    {
      "cell_type": "code",
      "metadata": {
        "id": "XvFEFItpl98p",
        "colab": {
          "base_uri": "https://localhost:8080/"
        },
        "outputId": "10c64d9c-219f-4807-c29a-c1f9f1fc3edd"
      },
      "source": [
        "ls data"
      ],
      "execution_count": null,
      "outputs": [
        {
          "output_type": "stream",
          "name": "stdout",
          "text": [
            "cifar100.tar.gz  test.tar.gz  train.tar.gz\n"
          ]
        }
      ]
    },
    {
      "cell_type": "markdown",
      "metadata": {
        "id": "DDU5aVgR9QBx"
      },
      "source": [
        "# Set up GPU and PyTorch\n",
        "\n",
        "First, ensure that your notebook on Colaboratory is set up to use GPU. After opening the notebook on Colaboratory, go to Edit>Notebook settings, select Python 3 under \"Runtime type,\" select GPU under \"Hardware accelerator,\" and save.\n",
        "\n",
        "Next, install PyTorch:"
      ]
    },
    {
      "cell_type": "code",
      "metadata": {
        "id": "kjbQtzKT9Uc2",
        "colab": {
          "base_uri": "https://localhost:8080/"
        },
        "outputId": "a4625f0c-bc77-43e8-c966-b3cf757dee7f"
      },
      "source": [
        "!pip3 install torch torchvision"
      ],
      "execution_count": null,
      "outputs": [
        {
          "output_type": "stream",
          "name": "stdout",
          "text": [
            "Looking in indexes: https://pypi.org/simple, https://us-python.pkg.dev/colab-wheels/public/simple/\n",
            "Requirement already satisfied: torch in /usr/local/lib/python3.8/dist-packages (1.13.1+cu116)\n",
            "Requirement already satisfied: torchvision in /usr/local/lib/python3.8/dist-packages (0.14.1+cu116)\n",
            "Requirement already satisfied: typing-extensions in /usr/local/lib/python3.8/dist-packages (from torch) (4.4.0)\n",
            "Requirement already satisfied: requests in /usr/local/lib/python3.8/dist-packages (from torchvision) (2.25.1)\n",
            "Requirement already satisfied: pillow!=8.3.*,>=5.3.0 in /usr/local/lib/python3.8/dist-packages (from torchvision) (7.1.2)\n",
            "Requirement already satisfied: numpy in /usr/local/lib/python3.8/dist-packages (from torchvision) (1.21.6)\n",
            "Requirement already satisfied: certifi>=2017.4.17 in /usr/local/lib/python3.8/dist-packages (from requests->torchvision) (2022.12.7)\n",
            "Requirement already satisfied: idna<3,>=2.5 in /usr/local/lib/python3.8/dist-packages (from requests->torchvision) (2.10)\n",
            "Requirement already satisfied: chardet<5,>=3.0.2 in /usr/local/lib/python3.8/dist-packages (from requests->torchvision) (4.0.0)\n",
            "Requirement already satisfied: urllib3<1.27,>=1.21.1 in /usr/local/lib/python3.8/dist-packages (from requests->torchvision) (1.24.3)\n"
          ]
        }
      ]
    },
    {
      "cell_type": "markdown",
      "metadata": {
        "id": "u_BekZYY9Vzx"
      },
      "source": [
        "Make sure that pytorch is installed and works with GPU:"
      ]
    },
    {
      "cell_type": "code",
      "metadata": {
        "id": "8TXSJWQa9efx",
        "colab": {
          "base_uri": "https://localhost:8080/"
        },
        "outputId": "8b10fa9f-a8cb-4ec7-bed1-4a5acb5f81ef"
      },
      "source": [
        "import torch\n",
        "a = torch.Tensor([1]).cuda()\n",
        "print(a)\n"
      ],
      "execution_count": 6,
      "outputs": [
        {
          "output_type": "stream",
          "name": "stdout",
          "text": [
            "tensor([1.], device='cuda:0')\n"
          ]
        }
      ]
    },
    {
      "cell_type": "code",
      "metadata": {
        "id": "OEeRNsCjRXZK",
        "colab": {
          "base_uri": "https://localhost:8080/"
        },
        "outputId": "373f3d78-8541-43bf-b6b4-efd6a5de6ed8"
      },
      "source": [
        "torch.cuda.is_available()"
      ],
      "execution_count": 7,
      "outputs": [
        {
          "output_type": "execute_result",
          "data": {
            "text/plain": [
              "True"
            ]
          },
          "metadata": {},
          "execution_count": 7
        }
      ]
    },
    {
      "cell_type": "markdown",
      "metadata": {
        "id": "qChgLJERsvZP"
      },
      "source": [
        "# Part 1"
      ]
    },
    {
      "cell_type": "code",
      "metadata": {
        "id": "IlyCnvf6WzjR",
        "colab": {
          "base_uri": "https://localhost:8080/"
        },
        "outputId": "abb9a392-6d1d-4960-9d70-8a01155e65a9"
      },
      "source": [
        "\"\"\"Headers\"\"\"\n",
        "\n",
        "from __future__ import print_function\n",
        "from PIL import Image\n",
        "import os\n",
        "import os.path\n",
        "import numpy as np\n",
        "import sys\n",
        "if sys.version_info[0] == 2:\n",
        "    import cPickle as pickle\n",
        "else:\n",
        "    import pickle\n",
        "\n",
        "import torch.utils.data as data\n",
        "from torchvision.datasets.utils import download_url, check_integrity\n",
        "\n",
        "import csv\n",
        "%matplotlib inline\n",
        "import matplotlib\n",
        "import matplotlib.pyplot as plt\n",
        "import numpy as np\n",
        "import os.path\n",
        "import sys\n",
        "import torch\n",
        "import torch.utils.data\n",
        "import torchvision\n",
        "import torchvision.transforms as transforms\n",
        "\n",
        "from torch.autograd import Variable\n",
        "import torch.nn as nn\n",
        "import torch.nn.functional as F\n",
        "\n",
        "np.random.seed(111)\n",
        "torch.cuda.manual_seed_all(111)\n",
        "torch.manual_seed(111)"
      ],
      "execution_count": 8,
      "outputs": [
        {
          "output_type": "execute_result",
          "data": {
            "text/plain": [
              "<torch._C.Generator at 0x7ff6ced54570>"
            ]
          },
          "metadata": {},
          "execution_count": 8
        }
      ]
    },
    {
      "cell_type": "markdown",
      "metadata": {
        "id": "137GhZMrcTuj"
      },
      "source": [
        "\n",
        "\n",
        "## **Just execute the cell below. This is the dataloader. DO NOT CHANGE ANYTHING IN HERE!**\n"
      ]
    },
    {
      "cell_type": "code",
      "metadata": {
        "id": "URUH4fzzWqKr"
      },
      "source": [
        "\"\"\"\"\"\"\n",
        "\n",
        "class CIFAR10_SFU_CV(data.Dataset):\n",
        "    \"\"\"`CIFAR10 <https://www.cs.toronto.edu/~kriz/cifar.html>`_ Dataset.\n",
        "\n",
        "    Args:\n",
        "        root (string): Root directory of dataset where directory\n",
        "            ``cifar-10-batches-py`` exists or will be saved to if download is set to True.\n",
        "        train (bool, optional): If True, creates dataset from training set, otherwise\n",
        "            creates from test set.\n",
        "        transform (callable, optional): A function/transform that  takes in an PIL image\n",
        "            and returns a transformed version. E.g, ``transforms.RandomCrop``\n",
        "        target_transform (callable, optional): A function/transform that takes in the\n",
        "            target and transforms it.\n",
        "        download (bool, optional): If true, downloads the dataset from the internet and\n",
        "            puts it in root directory. If dataset is already downloaded, it is not\n",
        "            downloaded again.\n",
        "\n",
        "    \"\"\"\n",
        "    base_folder = 'cifar100'\n",
        "    url = \"https://www.cs.toronto.edu/~kriz/cifar-10-python.tar.gz\"\n",
        "    filename = \"cifar100.tar.gz\"\n",
        "    tgz_md5 = 'c58f30108f718f92721af3b95e74349a'\n",
        "    train_list = [\n",
        "        ['data_batch_1', 'c99cafc152244af753f735de768cd75f'],\n",
        "        ['data_batch_2', 'd4bba439e000b95fd0a9bffe97cbabec'],\n",
        "        ['data_batch_3', '54ebc095f3ab1f0389bbae665268c751'],\n",
        "        ['data_batch_4', '634d18415352ddfa80567beed471001a'],\n",
        "        ['data_batch_5', '482c414d41f54cd18b22e5b47cb7c3cb'],\n",
        "    ]\n",
        "\n",
        "    test_list = [\n",
        "        ['test_batch', '40351d587109b95175f43aff81a1287e'],\n",
        "    ]\n",
        "\n",
        "    def __init__(self, root, fold=\"train\",\n",
        "                 transform=None, target_transform=None,\n",
        "                 download=False):\n",
        "        \n",
        "        fold = fold.lower()\n",
        "\n",
        "        self.train = False\n",
        "        self.test = False\n",
        "        self.val = False\n",
        "\n",
        "        if fold == \"train\":\n",
        "            self.train = True\n",
        "        elif fold == \"test\":\n",
        "            self.test = True\n",
        "        elif fold == \"val\":\n",
        "            self.val = True\n",
        "        else:\n",
        "            raise RuntimeError(\"Not train-val-test\")\n",
        "\n",
        "\n",
        "        self.root = os.path.expanduser(root)\n",
        "        self.transform = transform\n",
        "        self.target_transform = target_transform\n",
        "\n",
        "        fpath = os.path.join(root, self.filename)\n",
        "        if not self._check_integrity():\n",
        "            raise RuntimeError('Dataset not found or corrupted.' +\n",
        "                               ' Download it and extract the file again.')\n",
        "\n",
        "        # now load the picked numpy arrays\n",
        "        if self.train or self.val:\n",
        "            self.train_data = []\n",
        "            self.train_labels = []\n",
        "            for fentry in self.train_list:\n",
        "                f = fentry[0]\n",
        "                file = os.path.join(self.root, self.base_folder, f)\n",
        "                fo = open(file, 'rb')\n",
        "                if sys.version_info[0] == 2:\n",
        "                    entry = pickle.load(fo)\n",
        "                else:\n",
        "                    entry = pickle.load(fo, encoding='latin1')\n",
        "                self.train_data.append(entry['data'])\n",
        "                if 'labels' in entry:\n",
        "                    self.train_labels += entry['labels']\n",
        "                else:\n",
        "                    self.train_labels += entry['fine_labels']\n",
        "                fo.close()\n",
        "\n",
        "            self.train_data = np.concatenate(self.train_data)\n",
        "            self.train_data = self.train_data.reshape((50000, 3, 32, 32))\n",
        "            self.train_data = self.train_data.transpose((0, 2, 3, 1))  # convert to HWC\n",
        "            \n",
        "            p = np.arange(0,50000,10)\n",
        "            mask_train = np.ones((50000,), dtype=bool)\n",
        "            mask_train[p] = False\n",
        "            mask_val = np.zeros((50000,), dtype=bool)\n",
        "            mask_val[p] = True\n",
        "\n",
        "            copy_all_data = np.array(self.train_data)\n",
        "            self.val_data = np.array(copy_all_data[mask_val])\n",
        "            self.train_data = np.array(copy_all_data[mask_train])\n",
        "            \n",
        "            copy_all_labels = np.array(self.train_labels)\n",
        "            self.val_labels = np.array(copy_all_labels[mask_val])\n",
        "            self.train_labels = np.array(copy_all_labels[mask_train])\n",
        "\n",
        "        elif self.test:\n",
        "            f = self.test_list[0][0]\n",
        "            file = os.path.join(self.root, self.base_folder, f)\n",
        "            fo = open(file, 'rb')\n",
        "            if sys.version_info[0] == 2:\n",
        "                entry = pickle.load(fo)\n",
        "            else:\n",
        "                entry = pickle.load(fo, encoding='latin1')\n",
        "            self.test_data = entry['data']\n",
        "\n",
        "            if 'labels' in entry:\n",
        "                self.test_labels = entry['labels']\n",
        "            else:\n",
        "                self.test_labels = entry['fine_labels']\n",
        "            fo.close()\n",
        "            self.test_data = self.test_data.reshape((10000, 3, 32, 32))\n",
        "            self.test_data = self.test_data.transpose((0, 2, 3, 1))  # convert to HWC\n",
        "\n",
        "    def __getitem__(self, index):\n",
        "        \"\"\"\n",
        "        Args:\n",
        "            index (int): Index\n",
        "\n",
        "        Returns:\n",
        "            tuple: (image, target) where target is index of the target class.\n",
        "        \"\"\"\n",
        "        if self.train:\n",
        "            img, target = self.train_data[index], self.train_labels[index]\n",
        "        elif self.test:\n",
        "            img, target = self.test_data[index], self.test_labels[index]\n",
        "        elif self.val:\n",
        "            img, target = self.val_data[index], self.val_labels[index]\n",
        "\n",
        "        # doing this so that it is consistent with all other datasets\n",
        "        # to return a PIL Image\n",
        "        img = Image.fromarray(img)\n",
        "\n",
        "        if self.transform is not None:\n",
        "            img = self.transform(img)\n",
        "\n",
        "        if self.target_transform is not None:\n",
        "            target = self.target_transform(target)\n",
        "\n",
        "        return img, target\n",
        "\n",
        "    def __len__(self):\n",
        "        if self.train:\n",
        "            return len(self.train_data)\n",
        "        elif self.test:\n",
        "            return len(self.test_data)\n",
        "        elif self.val:\n",
        "            return len(self.val_data)\n",
        "\n",
        "    def _check_integrity(self):\n",
        "        root = self.root\n",
        "        for fentry in (self.train_list + self.test_list):\n",
        "            filename, md5 = fentry[0], fentry[1]\n",
        "            fpath = os.path.join(root, self.base_folder, filename)\n",
        "            if not check_integrity(fpath, md5):\n",
        "                return False\n",
        "        return True\n",
        "\n",
        "    def __repr__(self):\n",
        "        fmt_str = 'Dataset ' + self.__class__.__name__ + '\\n'\n",
        "        fmt_str += '    Number of datapoints: {}\\n'.format(self.__len__())\n",
        "        tmp = 'train' if self.train is True else 'test'\n",
        "        fmt_str += '    Split: {}\\n'.format(tmp)\n",
        "        fmt_str += '    Root Location: {}\\n'.format(self.root)\n",
        "        tmp = '    Transforms (if any): '\n",
        "        fmt_str += '{0}{1}\\n'.format(tmp, self.transform.__repr__().replace('\\n', '\\n' + ' ' * len(tmp)))\n",
        "        tmp = '    Target Transforms (if any): '\n",
        "        fmt_str += '{0}{1}'.format(tmp, self.target_transform.__repr__().replace('\\n', '\\n' + ' ' * len(tmp)))\n",
        "        return fmt_str\n",
        "\n",
        "\n",
        "class CIFAR100_SFU_CV(CIFAR10_SFU_CV):\n",
        "    \"\"\"`CIFAR100 <https://www.cs.toronto.edu/~kriz/cifar.html>`_ Dataset.\n",
        "\n",
        "    This is a subclass of the `CIFAR10` Dataset.\n",
        "    \"\"\"\n",
        "    base_folder = 'cifar100'\n",
        "    filename = \"cifar100.tar.gz\"\n",
        "    tgz_md5 = 'e68a4c763591787a0b39fe2209371f32'\n",
        "    train_list = [\n",
        "        ['train_cs543', '49eee854445c1e2ebe796cd93c20bb0f'],\n",
        "    ]\n",
        "\n",
        "    test_list = [\n",
        "        ['test_cs543', 'd3fe9f6a9251bd443f428f896d27384f'],\n",
        "    ]"
      ],
      "execution_count": 9,
      "outputs": []
    },
    {
      "cell_type": "markdown",
      "metadata": {
        "id": "JpFMv7HtcII4"
      },
      "source": [
        "This file has been adapted from the easy-to-use tutorial released by PyTorch:\n",
        "http://pytorch.org/tutorials/beginner/blitz/cifar10_tutorial.html\n",
        "\n",
        "Training an image classifier\n",
        "----------------------------\n",
        "\n",
        "We will do the following steps in order:\n",
        "\n",
        "1. Load the CIFAR100_SFU_CV training, validation and test datasets using\n",
        "   torchvision. Use torchvision.transforms to apply transforms on the\n",
        "   dataset.\n",
        "2. Define a Convolution Neural Network - BaseNet\n",
        "3. Define a loss function and optimizer\n",
        "4. Train the network on training data and check performance on val set.\n",
        "   Plot train loss and validation accuracies.\n",
        "5. Try the network on test data and create .csv file for submission to kaggle"
      ]
    },
    {
      "cell_type": "code",
      "metadata": {
        "id": "Ld6juH34dWWq"
      },
      "source": [
        "# <<TODO#5>> Based on the val set performance, decide how many\n",
        "# epochs are apt for your model.\n",
        "# ---------\n",
        "EPOCHS = 15\n",
        "# ---------\n",
        "\n",
        "IS_GPU = True\n",
        "TEST_BS = 256\n",
        "TOTAL_CLASSES = 100\n",
        "TRAIN_BS = 32\n",
        "PATH_TO_CIFAR100_SFU_CV = \"/data/\""
      ],
      "execution_count": 46,
      "outputs": []
    },
    {
      "cell_type": "code",
      "metadata": {
        "id": "0ENlTTMi-qFD"
      },
      "source": [
        "ls /data/test"
      ],
      "execution_count": null,
      "outputs": []
    },
    {
      "cell_type": "code",
      "metadata": {
        "id": "d57CSAj1dfix"
      },
      "source": [
        "def calculate_val_accuracy(valloader, is_gpu):\n",
        "    \"\"\" Util function to calculate val set accuracy,\n",
        "    both overall and per class accuracy\n",
        "    Args:\n",
        "        valloader (torch.utils.data.DataLoader): val set \n",
        "        is_gpu (bool): whether to run on GPU\n",
        "    Returns:\n",
        "        tuple: (overall accuracy, class level accuracy)\n",
        "    \"\"\"    \n",
        "    correct = 0.\n",
        "    total = 0.\n",
        "    predictions = []\n",
        "\n",
        "    class_correct = list(0. for i in range(TOTAL_CLASSES))\n",
        "    class_total = list(0. for i in range(TOTAL_CLASSES))\n",
        "\n",
        "    for data in valloader:\n",
        "        images, labels = data\n",
        "        if is_gpu:\n",
        "            images = images.cuda()\n",
        "            labels = labels.cuda()\n",
        "        outputs = net(Variable(images))\n",
        "        _, predicted = torch.max(outputs.data, 1)\n",
        "        predictions.extend(list(predicted.cpu().numpy()))\n",
        "        total += labels.size(0)\n",
        "        # The following line reported an error for some students. Put a new version.\n",
        "        # correct += (predicted == labels).sum()\n",
        "        correct += torch.sum(predicted == labels).detach().cpu().numpy()\n",
        "\n",
        "        # The following line reported an error for some students. Put a new version.\n",
        "        # c = (predicted == labels).squeeze()\n",
        "        c = torch.squeeze(predicted == labels).detach().cpu().numpy()\t\n",
        "        # Added for a fix.\n",
        "        #c = c.cpu()\n",
        "        for i in range(len(labels)):\n",
        "            label = labels[i]\n",
        "            class_correct[label] += c[i]\n",
        "            class_total[label] += 1\n",
        "\n",
        "    class_accuracy = 100 * np.divide(class_correct, class_total)\n",
        "    return 100*correct/total, class_accuracy"
      ],
      "execution_count": 47,
      "outputs": []
    },
    {
      "cell_type": "markdown",
      "metadata": {
        "id": "aq2qOUaJeAWJ"
      },
      "source": [
        "1.** Loading CIFAR100_SFU_CV**\n",
        "\n",
        "We modify the dataset to create CIFAR100_SFU_CV dataset which consist of 45000 training images (450 of each class), 5000 validation images (50 of each class) and 10000 test images (100 of each class). The train and val datasets have labels while all the labels in the test set are set to 0.\n"
      ]
    },
    {
      "cell_type": "code",
      "metadata": {
        "id": "C2UcDZmtdfq3",
        "colab": {
          "base_uri": "https://localhost:8080/"
        },
        "outputId": "eb4d173a-6005-44eb-fb9d-f13c851278ee"
      },
      "source": [
        "# The output of torchvision datasets are PILImage images of range [0, 1].\n",
        "# Using transforms.ToTensor(), transform them to Tensors of normalized range\n",
        "# [-1, 1].\n",
        "\n",
        "\n",
        "# <<TODO#1>> Use transforms.Normalize() with the right parameters to \n",
        "# make the data well conditioned (zero mean, std dev=1) for improved training.\n",
        "# <<TODO#2>> Try using transforms.RandomCrop() and/or transforms.RandomHorizontalFlip()\n",
        "# to augment training data.\n",
        "# After your edits, make sure that test_transform should have the same data\n",
        "# normalization parameters as train_transform\n",
        "# You shouldn't have any data augmentation in test_transform (val or test data is never augmented).\n",
        "# ---------------------\n",
        "\n",
        "train_transform = transforms.Compose([\n",
        "        transforms.RandomHorizontalFlip(),\n",
        "        transforms.ToTensor(),\n",
        "        transforms.Normalize(mean=[0,0,0],\n",
        "        std=[1,1,1]),\n",
        "        ])\n",
        "test_transform = transforms.Compose([\n",
        "        transforms.ToTensor(),\n",
        "        transforms.Normalize(mean=[0,0,0],\n",
        "        std=[1,1,1]),\n",
        "        ])\n",
        "# ---------------------\n",
        "\n",
        "trainset = CIFAR100_SFU_CV(root=PATH_TO_CIFAR100_SFU_CV, fold=\"train\",\n",
        "                                        download=True, transform=train_transform)\n",
        "trainloader = torch.utils.data.DataLoader(trainset, batch_size=TRAIN_BS,\n",
        "                                          shuffle=True, num_workers=2)\n",
        "print(\"Train set size: \"+str(len(trainset)))\n",
        "\n",
        "valset = CIFAR100_SFU_CV(root=PATH_TO_CIFAR100_SFU_CV, fold=\"val\",\n",
        "                                       download=True, transform=test_transform)\n",
        "valloader = torch.utils.data.DataLoader(valset, batch_size=TEST_BS,\n",
        "                                         shuffle=False, num_workers=2)\n",
        "print(\"Val set size: \"+str(len(valset)))\n",
        "\n",
        "testset = CIFAR100_SFU_CV(root=PATH_TO_CIFAR100_SFU_CV, fold=\"test\",\n",
        "                                       download=True, transform=test_transform)\n",
        "testloader = torch.utils.data.DataLoader(testset, batch_size=TEST_BS,\n",
        "                                         shuffle=False, num_workers=2)\n",
        "print(\"Test set size: \"+str(len(testset)))\n",
        "\n",
        "# The 100 classes for CIFAR100\n",
        "classes = ['apple', 'aquarium_fish', 'baby', 'bear', 'beaver', 'bed', 'bee', 'beetle', 'bicycle', 'bottle', 'bowl', 'boy', 'bridge', 'bus', 'butterfly', 'camel', 'can', 'castle', 'caterpillar', 'cattle', 'chair', 'chimpanzee', 'clock', 'cloud', 'cockroach', 'couch', 'crab', 'crocodile', 'cup', 'dinosaur', 'dolphin', 'elephant', 'flatfish', 'forest', 'fox', 'girl', 'hamster', 'house', 'kangaroo', 'keyboard', 'lamp', 'lawn_mower', 'leopard', 'lion', 'lizard', 'lobster', 'man', 'maple_tree', 'motorcycle', 'mountain', 'mouse', 'mushroom', 'oak_tree', 'orange', 'orchid', 'otter', 'palm_tree', 'pear', 'pickup_truck', 'pine_tree', 'plain', 'plate', 'poppy', 'porcupine', 'possum', 'rabbit', 'raccoon', 'ray', 'road', 'rocket', 'rose', 'sea', 'seal', 'shark', 'shrew', 'skunk', 'skyscraper', 'snail', 'snake', 'spider', 'squirrel', 'streetcar', 'sunflower', 'sweet_pepper', 'table', 'tank', 'telephone', 'television', 'tiger', 'tractor', 'train', 'trout', 'tulip', 'turtle', 'wardrobe', 'whale', 'willow_tree', 'wolf', 'woman', 'worm']\n",
        "\n"
      ],
      "execution_count": 48,
      "outputs": [
        {
          "output_type": "stream",
          "name": "stdout",
          "text": [
            "Train set size: 45000\n",
            "Val set size: 5000\n",
            "Test set size: 10000\n"
          ]
        }
      ]
    },
    {
      "cell_type": "code",
      "metadata": {
        "id": "5b_fBznndp4W"
      },
      "source": [
        "########################################################################\n",
        "# 2. Define a Convolution Neural Network\n",
        "# ^^^^^^^^^^^^^^^^^^^^^^^^^^^^^^^^^^^^^^\n",
        "# We provide a basic network that you should understand, run and\n",
        "# eventually improve\n",
        "# <<TODO>> Add more conv layers\n",
        "# <<TODO>> Add more fully connected (fc) layers\n",
        "# <<TODO>> Add regularization layers like Batchnorm.\n",
        "#          nn.BatchNorm2d after conv layers:\n",
        "#          http://pytorch.org/docs/master/nn.html#batchnorm2d\n",
        "#          nn.BatchNorm1d after fc layers:\n",
        "#          http://pytorch.org/docs/master/nn.html#batchnorm1d\n",
        "# This is a good resource for developing a CNN for classification:\n",
        "# http://cs231n.github.io/convolutional-networks/#layers\n",
        "\n",
        "import torch.nn as nn\n",
        "import torch.nn.functional as F\n",
        "\n",
        "class BaseNet(nn.Module):\n",
        "    def __init__(self):\n",
        "        super(BaseNet, self).__init__()\n",
        "        \n",
        "        # <<TODO#3>> Add more conv layers with increasing \n",
        "        # output channels\n",
        "        # <<TODO#4>> Add normalization layers after conv\n",
        "        # layers (nn.BatchNorm2d)\n",
        "\n",
        "        # Also experiment with kernel size in conv2d layers (say 3\n",
        "        # inspired from VGGNet)\n",
        "        # To keep it simple, keep the same kernel size\n",
        "        # (right now set to 5) in all conv layers.\n",
        "        # Do not have a maxpool layer after every conv layer in your\n",
        "        # deeper network as it leads to too much loss of information.\n",
        "\n",
        "        # <<TODO#1>> Add more conv layers with increasing number of filters\n",
        "        self.conv1 = nn.Conv2d(3, 64, 3, stride =1 ,padding =1)\n",
        "        #self.pool = nn.MaxPool2d(2, 2)\n",
        "        self.bn1 = nn.BatchNorm2d(64)\n",
        "        self.conv2 = nn.Conv2d(64, 128, 3,stride =1 ,padding =1)\n",
        "        self.pool = nn.MaxPool2d(2, 2)\n",
        "        self.bn2 = nn.BatchNorm2d(128)\n",
        "        self.conv3 = nn.Conv2d(128, 256, 3,stride =1 ,padding =1)\n",
        "        self.bn3 = nn.BatchNorm2d(256)  \n",
        "        self.conv4 = nn.Conv2d(256, 512, 3, stride =1 ,padding =1)\n",
        "        self.bn4 = nn.BatchNorm2d(512)\n",
        "        #self.conv3 = nn.Conv2d(16, 32, 5)\n",
        "        #self.pool = nn.MaxPool2d(2, 2)\n",
        "        #self.bn3 = nn.BatchNorm2d(32)\n",
        "        #self.conv4 = nn.Conv2d(32, 64, 5)\n",
        "        #self.bn4 = nn.BatchNorm2d(64)\n",
        "        #self.conv5 = nn.Conv2d(64, 128, 5)\n",
        "\n",
        "        # Adding normalization layers after each convolutional layer\n",
        "        \n",
        "\n",
        "        # <<TODO#3>> Add more linear (fc) layers\n",
        "        # <<TODO#4>> Add normalization layers after linear and\n",
        "        # experiment inserting them before or after ReLU (nn.BatchNorm1d)\n",
        "        # More on nn.sequential:\n",
        "        # http://pytorch.org/docs/master/nn.html#torch.nn.Sequential\n",
        "        \n",
        "        self.fc_net = nn.Sequential(\n",
        "            nn.Linear(512*2*2, 256),\n",
        "            nn.ReLU(inplace=True),\n",
        "            nn.BatchNorm1d(256),\n",
        "            nn.Linear(256, 128),\n",
        "            nn.ReLU(inplace=True),\n",
        "            nn.BatchNorm1d(128),\n",
        "            nn.Linear(128, TOTAL_CLASSES//2),\n",
        "            nn.ReLU(inplace=True),\n",
        "            nn.BatchNorm1d(TOTAL_CLASSES//2),\n",
        "            nn.Linear(TOTAL_CLASSES//2, TOTAL_CLASSES)   \n",
        "        )\n",
        "        \n",
        "\n",
        "    def forward(self, x):\n",
        "\n",
        "        # <<TODO#3&#4>> Based on the above edits, you'll have\n",
        "        # to edit the forward pass description here.\n",
        "\n",
        "        x = self.pool(F.relu(self.bn1(self.conv1(x))))\n",
        "        #x = self.pool(F.relu(self.conv2(x)))\n",
        "        x = self.pool(F.relu(self.bn2(self.conv2(x))))\n",
        "        x = self.pool(F.relu(self.bn3(self.conv3(x))))\n",
        "        x = self.pool(F.relu(self.bn4(self.conv4(x))))\n",
        "        #x = self.pool(F.relu(self.bn5(self.conv5(x))))\n",
        "        #x = self.pool(F.relu(self.bn6(self.conv6(x))))\n",
        "        #x = self.pool(F.relu(self.conv7(x)))\n",
        "\n",
        "        # Flatten output from the convolutional layers\n",
        "        #print(x.shape)\n",
        "        x = x.view(-1, 512*2*2)\n",
        "        x = self.fc_net(x)\n",
        "\n",
        "        # No softmax is needed as the loss function in step 3\n",
        "        # takes care of that\n",
        "        \n",
        "        return x\n",
        "\n",
        "# Create an instance of the nn.module class defined above:\n",
        "net = BaseNet()\n",
        "\n",
        "# For training on GPU, we need to transfer net and data onto the GPU\n",
        "# http://pytorch.org/tutorials/beginner/blitz/cifar10_tutorial.html#training-on-gpu\n",
        "if IS_GPU:\n",
        "    net = net.cuda()\n"
      ],
      "execution_count": 56,
      "outputs": []
    },
    {
      "cell_type": "code",
      "metadata": {
        "id": "zAZjIcLOdp-W"
      },
      "source": [
        "########################################################################\n",
        "# 3. Define a Loss function and optimizer\n",
        "# ^^^^^^^^^^^^^^^^^^^^^^^^^^^^^^^^^^^^^^^\n",
        "# Here we use Cross-Entropy loss and SGD with momentum.\n",
        "# The CrossEntropyLoss criterion already includes softmax within its\n",
        "# implementation. That's why we don't use a softmax in our model\n",
        "# definition.\n",
        "\n",
        "import torch.optim as optim\n",
        "criterion = nn.CrossEntropyLoss()\n",
        "\n",
        "# Tune the learning rate.\n",
        "# See whether the momentum is useful or not\n",
        "optimizer = optim.SGD(net.parameters(), lr=0.01, momentum=0.9)\n",
        "\n",
        "plt.ioff()\n",
        "fig = plt.figure()\n",
        "train_loss_over_epochs = []\n",
        "val_accuracy_over_epochs = []\n"
      ],
      "execution_count": 57,
      "outputs": []
    },
    {
      "cell_type": "code",
      "metadata": {
        "id": "Ku7eF366dyUP",
        "colab": {
          "base_uri": "https://localhost:8080/",
          "height": 588
        },
        "outputId": "54f9bc45-8d56-4fd1-90b6-55d075f58e4c"
      },
      "source": [
        "########################################################################\n",
        "# 4. Train the network\n",
        "# ^^^^^^^^^^^^^^^^^^^^\n",
        "#\n",
        "# We simply have to loop over our data iterator, and feed the inputs to the\n",
        "# network and optimize. We evaluate the validation accuracy at each\n",
        "# epoch and plot these values over the number of epochs\n",
        "# Nothing to change here\n",
        "# -----------------------------\n",
        "for epoch in range(EPOCHS):  # loop over the dataset multiple times\n",
        "\n",
        "    running_loss = 0.0\n",
        "    for i, data in enumerate(trainloader, 0):\n",
        "        # get the inputs\n",
        "        inputs, labels = data\n",
        "\n",
        "        if IS_GPU:\n",
        "            inputs = inputs.cuda()\n",
        "            labels = labels.cuda()\n",
        "\n",
        "        # wrap them in Variable\n",
        "        inputs, labels = Variable(inputs), Variable(labels)\n",
        "\n",
        "        # zero the parameter gradients\n",
        "        optimizer.zero_grad()\n",
        "\n",
        "        # forward + backward + optimize\n",
        "        outputs = net(inputs)\n",
        "        loss = criterion(outputs, labels)\n",
        "        loss.backward()\n",
        "        optimizer.step()\n",
        "\n",
        "        # print statistics\n",
        "        running_loss += loss.item()\n",
        "    \n",
        "    # Normalizing the loss by the total number of train batches\n",
        "    running_loss/=len(trainloader)\n",
        "    print('[%d] loss: %.3f' %\n",
        "          (epoch + 1, running_loss))\n",
        "\n",
        "    # Scale of 0.0 to 100.0\n",
        "    # Calculate validation set accuracy of the existing model\n",
        "    val_accuracy, val_classwise_accuracy = \\\n",
        "        calculate_val_accuracy(valloader, IS_GPU)\n",
        "    print('Accuracy of the network on the val images: %d %%' % (val_accuracy))\n",
        "\n",
        "    # # Optionally print classwise accuracies\n",
        "    # for c_i in range(TOTAL_CLASSES):\n",
        "    #     print('Accuracy of %5s : %2d %%' % (\n",
        "    #         classes[c_i], 100 * val_classwise_accuracy[c_i]))\n",
        "\n",
        "    train_loss_over_epochs.append(running_loss)\n",
        "    val_accuracy_over_epochs.append(val_accuracy)\n",
        "# -----------------------------\n",
        "\n",
        "\n",
        "# Plot train loss over epochs and val set accuracy over epochs\n",
        "# Nothing to change here\n",
        "# -------------\n",
        "plt.subplot(2, 1, 1)\n",
        "plt.ylabel('Train loss')\n",
        "plt.plot(np.arange(EPOCHS), train_loss_over_epochs, 'k-')\n",
        "plt.title('train loss and val accuracy')\n",
        "plt.xticks(np.arange(EPOCHS, dtype=int))\n",
        "plt.grid(True)\n",
        "\n",
        "plt.subplot(2, 1, 2)\n",
        "# The line added for a bug fix.\n",
        "val_accuracy_over_epochs = torch.tensor(val_accuracy_over_epochs, device = 'cpu')\n",
        "\n",
        "plt.plot(np.arange(EPOCHS), val_accuracy_over_epochs, 'b-')\n",
        "plt.ylabel('Val accuracy')\n",
        "plt.xlabel('Epochs')\n",
        "plt.xticks(np.arange(EPOCHS, dtype=int))\n",
        "plt.grid(True)\n",
        "plt.savefig(\"plot.png\")\n",
        "plt.close(fig)\n",
        "print('Finished Training')\n",
        "# -------------"
      ],
      "execution_count": 58,
      "outputs": [
        {
          "output_type": "stream",
          "name": "stdout",
          "text": [
            "[1] loss: 3.673\n",
            "Accuracy of the network on the val images: 21 %\n",
            "[2] loss: 2.967\n",
            "Accuracy of the network on the val images: 30 %\n",
            "[3] loss: 2.610\n",
            "Accuracy of the network on the val images: 34 %\n",
            "[4] loss: 2.370\n",
            "Accuracy of the network on the val images: 39 %\n",
            "[5] loss: 2.193\n",
            "Accuracy of the network on the val images: 42 %\n",
            "[6] loss: 2.030\n",
            "Accuracy of the network on the val images: 43 %\n"
          ]
        },
        {
          "output_type": "error",
          "ename": "KeyboardInterrupt",
          "evalue": "ignored",
          "traceback": [
            "\u001b[0;31m---------------------------------------------------------------------------\u001b[0m",
            "\u001b[0;31mKeyboardInterrupt\u001b[0m                         Traceback (most recent call last)",
            "\u001b[0;32m<ipython-input-58-b4896e74c893>\u001b[0m in \u001b[0;36m<module>\u001b[0;34m\u001b[0m\n\u001b[1;32m     28\u001b[0m         \u001b[0moutputs\u001b[0m \u001b[0;34m=\u001b[0m \u001b[0mnet\u001b[0m\u001b[0;34m(\u001b[0m\u001b[0minputs\u001b[0m\u001b[0;34m)\u001b[0m\u001b[0;34m\u001b[0m\u001b[0;34m\u001b[0m\u001b[0m\n\u001b[1;32m     29\u001b[0m         \u001b[0mloss\u001b[0m \u001b[0;34m=\u001b[0m \u001b[0mcriterion\u001b[0m\u001b[0;34m(\u001b[0m\u001b[0moutputs\u001b[0m\u001b[0;34m,\u001b[0m \u001b[0mlabels\u001b[0m\u001b[0;34m)\u001b[0m\u001b[0;34m\u001b[0m\u001b[0;34m\u001b[0m\u001b[0m\n\u001b[0;32m---> 30\u001b[0;31m         \u001b[0mloss\u001b[0m\u001b[0;34m.\u001b[0m\u001b[0mbackward\u001b[0m\u001b[0;34m(\u001b[0m\u001b[0;34m)\u001b[0m\u001b[0;34m\u001b[0m\u001b[0;34m\u001b[0m\u001b[0m\n\u001b[0m\u001b[1;32m     31\u001b[0m         \u001b[0moptimizer\u001b[0m\u001b[0;34m.\u001b[0m\u001b[0mstep\u001b[0m\u001b[0;34m(\u001b[0m\u001b[0;34m)\u001b[0m\u001b[0;34m\u001b[0m\u001b[0;34m\u001b[0m\u001b[0m\n\u001b[1;32m     32\u001b[0m \u001b[0;34m\u001b[0m\u001b[0m\n",
            "\u001b[0;32m/usr/local/lib/python3.8/dist-packages/torch/_tensor.py\u001b[0m in \u001b[0;36mbackward\u001b[0;34m(self, gradient, retain_graph, create_graph, inputs)\u001b[0m\n\u001b[1;32m    486\u001b[0m                 \u001b[0minputs\u001b[0m\u001b[0;34m=\u001b[0m\u001b[0minputs\u001b[0m\u001b[0;34m,\u001b[0m\u001b[0;34m\u001b[0m\u001b[0;34m\u001b[0m\u001b[0m\n\u001b[1;32m    487\u001b[0m             )\n\u001b[0;32m--> 488\u001b[0;31m         torch.autograd.backward(\n\u001b[0m\u001b[1;32m    489\u001b[0m             \u001b[0mself\u001b[0m\u001b[0;34m,\u001b[0m \u001b[0mgradient\u001b[0m\u001b[0;34m,\u001b[0m \u001b[0mretain_graph\u001b[0m\u001b[0;34m,\u001b[0m \u001b[0mcreate_graph\u001b[0m\u001b[0;34m,\u001b[0m \u001b[0minputs\u001b[0m\u001b[0;34m=\u001b[0m\u001b[0minputs\u001b[0m\u001b[0;34m\u001b[0m\u001b[0;34m\u001b[0m\u001b[0m\n\u001b[1;32m    490\u001b[0m         )\n",
            "\u001b[0;32m/usr/local/lib/python3.8/dist-packages/torch/autograd/__init__.py\u001b[0m in \u001b[0;36mbackward\u001b[0;34m(tensors, grad_tensors, retain_graph, create_graph, grad_variables, inputs)\u001b[0m\n\u001b[1;32m    195\u001b[0m     \u001b[0;31m# some Python versions print out the first line of a multi-line function\u001b[0m\u001b[0;34m\u001b[0m\u001b[0;34m\u001b[0m\u001b[0;34m\u001b[0m\u001b[0m\n\u001b[1;32m    196\u001b[0m     \u001b[0;31m# calls in the traceback and some print out the last line\u001b[0m\u001b[0;34m\u001b[0m\u001b[0;34m\u001b[0m\u001b[0;34m\u001b[0m\u001b[0m\n\u001b[0;32m--> 197\u001b[0;31m     Variable._execution_engine.run_backward(  # Calls into the C++ engine to run the backward pass\n\u001b[0m\u001b[1;32m    198\u001b[0m         \u001b[0mtensors\u001b[0m\u001b[0;34m,\u001b[0m \u001b[0mgrad_tensors_\u001b[0m\u001b[0;34m,\u001b[0m \u001b[0mretain_graph\u001b[0m\u001b[0;34m,\u001b[0m \u001b[0mcreate_graph\u001b[0m\u001b[0;34m,\u001b[0m \u001b[0minputs\u001b[0m\u001b[0;34m,\u001b[0m\u001b[0;34m\u001b[0m\u001b[0;34m\u001b[0m\u001b[0m\n\u001b[1;32m    199\u001b[0m         allow_unreachable=True, accumulate_grad=True)  # Calls into the C++ engine to run the backward pass\n",
            "\u001b[0;31mKeyboardInterrupt\u001b[0m: "
          ]
        }
      ]
    },
    {
      "cell_type": "code",
      "metadata": {
        "id": "v1GE8t3mRdy9"
      },
      "source": [
        "########################################################################\n",
        "# 5. Try the network on test data, and create .csv file\n",
        "# ^^^^^^^^^^^^^^^^^^^^^^^^^^^^^^^^^^^^^^^^^^^^^^^^^^^^^\n",
        "########################################################################\n",
        "\n",
        "# Check out why .eval() is important!\n",
        "# https://discuss.pytorch.org/t/model-train-and-model-eval-vs-model-and-model-eval/5744/2\n",
        "net.eval()\n",
        "\n",
        "total = 0\n",
        "predictions = []\n",
        "for data in testloader:\n",
        "    images, labels = data\n",
        "\n",
        "    # For training on GPU, we need to transfer net and data onto the GPU\n",
        "    # http://pytorch.org/tutorials/beginner/blitz/cifar10_tutorial.html#training-on-gpu\n",
        "    if IS_GPU:\n",
        "        images = images.cuda()\n",
        "        labels = labels.cuda()\n",
        "    \n",
        "    outputs = net(Variable(images))\n",
        "    _, predicted = torch.max(outputs.data, 1)\n",
        "    predictions.extend(list(predicted.cpu().numpy()))\n",
        "    total += labels.size(0)\n",
        "\n",
        "with open('submission_netid.csv', 'w') as csvfile:\n",
        "    wr = csv.writer(csvfile, quoting=csv.QUOTE_ALL)\n",
        "    wr.writerow([\"Id\", \"Prediction1\"])\n",
        "    for l_i, label in enumerate(predictions):\n",
        "        wr.writerow([str(l_i), str(label)])\n"
      ],
      "execution_count": 40,
      "outputs": []
    },
    {
      "cell_type": "markdown",
      "metadata": {
        "id": "og2F2MLhs7L6"
      },
      "source": [
        "# Part 2"
      ]
    },
    {
      "cell_type": "code",
      "metadata": {
        "id": "prD0eXGpdoCR"
      },
      "source": [
        "\"\"\"Headers\"\"\"\n",
        "import os\n",
        "import os.path as osp\n",
        "import time\n",
        "\n",
        "%matplotlib inline\n",
        "import matplotlib.pyplot as plt\n",
        "\n",
        "import torch\n",
        "import torch.nn as nn\n",
        "import torchvision.models as models\n",
        "import torch.optim as optim\n",
        "\n",
        "from torchvision import datasets"
      ],
      "execution_count": null,
      "outputs": []
    },
    {
      "cell_type": "markdown",
      "metadata": {
        "id": "P6CJz7OM0J9Z"
      },
      "source": [
        "# Pre-Trained Model\n",
        "\n",
        "TODO1. Load pretrained resnet model. Experiment with different models. \n",
        "\n",
        "TODO2: Replace last fc layer\n",
        "\n",
        "TODO3. Forward pass"
      ]
    },
    {
      "cell_type": "code",
      "metadata": {
        "id": "HUdo6AkH0maX"
      },
      "source": [
        "class PreTrainedResNet(nn.Module):\n",
        "  def __init__(self, num_classes, feature_extracting):\n",
        "    super(PreTrainedResNet, self).__init__()\n",
        "    \n",
        "    #TODO1: Load pre-trained ResNet Model\n",
        "    self.resnet18 = models.resnet18(pretrained=True)\n",
        "    self.resnet18.eval()\n",
        "\n",
        "    #Set gradients to false\n",
        "    if feature_extracting:\n",
        "      for param in self.resnet18.parameters():\n",
        "          param.requires_grad = False\n",
        "    \n",
        "    #Replace last fc layer\n",
        "    num_feats = self.resnet18.fc.in_features\n",
        "    #num_classes = 200 \n",
        "    #TODO2: Replace fc layer in resnet to a linear layer of size (num_feats, num_classes)\n",
        "    self.resnet18.fc= nn.Linear(num_feats,200)\n",
        "    \n",
        "  def forward(self, x):\n",
        "    #TODO3: Forward pass x through the model\n",
        "    #print(x.shape)\n",
        "    x = self.resnet18(x)\n",
        "    return x"
      ],
      "execution_count": null,
      "outputs": []
    },
    {
      "cell_type": "markdown",
      "metadata": {
        "id": "Y_DRbNt8Jask"
      },
      "source": [
        "# Train"
      ]
    },
    {
      "cell_type": "code",
      "metadata": {
        "id": "ujUNEVsEvWwv"
      },
      "source": [
        "def train(model, optimizer, criterion, epoch, num_epochs):\n",
        "  model.train()\n",
        "  epoch_loss = 0.0\n",
        "  epoch_acc = 0.0\n",
        "  \n",
        "  for batch_idx, (images, labels) in enumerate(dataloaders['train']):\n",
        "    #zero the parameter gradients\n",
        "    optimizer.zero_grad()\n",
        "    \n",
        "    #move to GPU\n",
        "    images, labels = images.cuda(), labels.cuda()\n",
        "    \n",
        "    #forward\n",
        "    outputs = model.forward(images)\n",
        "    \n",
        "    loss = criterion(outputs, labels)\n",
        "    \n",
        "    _, preds = torch.max(outputs.data, 1)\n",
        "    \n",
        "    loss.backward()\n",
        "    optimizer.step()\n",
        "    \n",
        "    epoch_loss += loss.item()\n",
        "    epoch_acc += torch.sum(preds == labels).item()\n",
        "    \n",
        "  epoch_loss /= dataset_sizes['train']\n",
        "  epoch_acc /= dataset_sizes['train']\n",
        "  \n",
        "  print('TRAINING Epoch %d/%d Loss %.4f Accuracy %.4f' % (epoch, num_epochs, epoch_loss, epoch_acc))"
      ],
      "execution_count": null,
      "outputs": []
    },
    {
      "cell_type": "markdown",
      "metadata": {
        "id": "mAbNgE4r7vm-"
      },
      "source": [
        "# Main\n",
        "\n",
        "1. Vary hyperparams\n",
        "2. Data augmentation"
      ]
    },
    {
      "cell_type": "code",
      "metadata": {
        "id": "oZkI3scVWjOQ",
        "colab": {
          "base_uri": "https://localhost:8080/"
        },
        "outputId": "1fe79941-33b7-4419-86eb-41ba5d90e0f0"
      },
      "source": [
        "#TODO: Vary Hyperparams\n",
        "\n",
        "NUM_EPOCHS = 50\n",
        "LEARNING_RATE = 0.001\n",
        "BATCH_SIZE = 32\n",
        "RESNET_LAST_ONLY = False #Fine tunes only the last layer. Set to False to fine tune entire network\n",
        "\n",
        "root_path = '/data/' #If your data is in a different folder, set the path accodordingly\n",
        "\n",
        "data_transforms = {\n",
        "    'train': transforms.Compose([\n",
        "        transforms.Resize(256),\n",
        "        transforms.RandomResizedCrop(224),\n",
        "        transforms.RandomHorizontalFlip(),\n",
        "        transforms.RandomRotation(degrees=45),\n",
        "        transforms.ToTensor(),\n",
        "        transforms.Normalize(mean=[0.485, 0.456, 0.406],\n",
        "        std=[0.229, 0.224, 0.225]),\n",
        "        ]),\n",
        "    'test': transforms.Compose([\n",
        "        transforms.Resize(256),\n",
        "        transforms.CenterCrop(224),\n",
        "        transforms.ToTensor(),\n",
        "        transforms.Normalize(mean=[0.485, 0.456, 0.406],\n",
        "        std=[0.229, 0.224, 0.225]),\n",
        "        ])\n",
        "}\n",
        "\n",
        "# loading datasets with PyTorch ImageFolder\n",
        "image_datasets = {x: datasets.ImageFolder(os.path.join(root_path, x),\n",
        "                                          data_transforms[x])\n",
        "                  for x in ['train', 'test']}\n",
        "\n",
        "# defining data loaders to load data using image_datasets and transforms, here we also specify batch size for the mini batch\n",
        "dataloaders = {x: torch.utils.data.DataLoader(image_datasets[x], batch_size=BATCH_SIZE,\n",
        "                                             shuffle=True, num_workers=4)\n",
        "              for x in ['train', 'test']}\n",
        "\n",
        "dataset_sizes = {x: len(image_datasets[x]) for x in ['train', 'test']}\n",
        "class_names = image_datasets['train'].classes\n",
        "\n",
        "#Initialize the model\n",
        "model = PreTrainedResNet(len(class_names), RESNET_LAST_ONLY)\n",
        "model = model.cuda()\n",
        "\n",
        "#Setting the optimizer and loss criterion\n",
        "optimizer = optim.SGD(model.parameters(), lr=LEARNING_RATE, momentum=0.9)\n",
        "criterion = nn.CrossEntropyLoss()\n",
        "\n",
        "#Begin Train\n",
        "for epoch in range(NUM_EPOCHS):\n",
        "  train(model, optimizer, criterion, epoch+1, NUM_EPOCHS)\n",
        "  \n",
        "print(\"Finished Training\")\n",
        "print(\"-\"*10)"
      ],
      "execution_count": null,
      "outputs": [
        {
          "output_type": "stream",
          "name": "stdout",
          "text": [
            "TRAINING Epoch 1/50 Loss 0.1680 Accuracy 0.0093\n",
            "TRAINING Epoch 2/50 Loss 0.1581 Accuracy 0.0390\n",
            "TRAINING Epoch 3/50 Loss 0.1468 Accuracy 0.0963\n",
            "TRAINING Epoch 4/50 Loss 0.1346 Accuracy 0.1657\n",
            "TRAINING Epoch 5/50 Loss 0.1239 Accuracy 0.2323\n",
            "TRAINING Epoch 6/50 Loss 0.1151 Accuracy 0.2920\n",
            "TRAINING Epoch 7/50 Loss 0.1074 Accuracy 0.3263\n",
            "TRAINING Epoch 8/50 Loss 0.1003 Accuracy 0.3820\n",
            "TRAINING Epoch 9/50 Loss 0.0937 Accuracy 0.4230\n",
            "TRAINING Epoch 10/50 Loss 0.0880 Accuracy 0.4590\n",
            "TRAINING Epoch 11/50 Loss 0.0836 Accuracy 0.4730\n",
            "TRAINING Epoch 12/50 Loss 0.0801 Accuracy 0.5060\n",
            "TRAINING Epoch 13/50 Loss 0.0755 Accuracy 0.5400\n",
            "TRAINING Epoch 14/50 Loss 0.0721 Accuracy 0.5560\n",
            "TRAINING Epoch 15/50 Loss 0.0689 Accuracy 0.5823\n",
            "TRAINING Epoch 16/50 Loss 0.0661 Accuracy 0.5903\n",
            "TRAINING Epoch 17/50 Loss 0.0636 Accuracy 0.6150\n",
            "TRAINING Epoch 18/50 Loss 0.0609 Accuracy 0.6203\n",
            "TRAINING Epoch 19/50 Loss 0.0584 Accuracy 0.6347\n",
            "TRAINING Epoch 20/50 Loss 0.0560 Accuracy 0.6550\n",
            "TRAINING Epoch 21/50 Loss 0.0551 Accuracy 0.6643\n",
            "TRAINING Epoch 22/50 Loss 0.0533 Accuracy 0.6723\n",
            "TRAINING Epoch 23/50 Loss 0.0514 Accuracy 0.6853\n",
            "TRAINING Epoch 24/50 Loss 0.0493 Accuracy 0.6863\n",
            "TRAINING Epoch 25/50 Loss 0.0470 Accuracy 0.7033\n",
            "TRAINING Epoch 26/50 Loss 0.0470 Accuracy 0.7117\n",
            "TRAINING Epoch 27/50 Loss 0.0452 Accuracy 0.7157\n",
            "TRAINING Epoch 28/50 Loss 0.0435 Accuracy 0.7323\n",
            "TRAINING Epoch 29/50 Loss 0.0424 Accuracy 0.7323\n",
            "TRAINING Epoch 30/50 Loss 0.0411 Accuracy 0.7430\n",
            "TRAINING Epoch 31/50 Loss 0.0393 Accuracy 0.7593\n",
            "TRAINING Epoch 32/50 Loss 0.0395 Accuracy 0.7520\n",
            "TRAINING Epoch 33/50 Loss 0.0378 Accuracy 0.7643\n",
            "TRAINING Epoch 34/50 Loss 0.0371 Accuracy 0.7767\n",
            "TRAINING Epoch 35/50 Loss 0.0368 Accuracy 0.7687\n",
            "TRAINING Epoch 36/50 Loss 0.0357 Accuracy 0.7797\n",
            "TRAINING Epoch 37/50 Loss 0.0335 Accuracy 0.7867\n",
            "TRAINING Epoch 38/50 Loss 0.0333 Accuracy 0.7970\n",
            "TRAINING Epoch 39/50 Loss 0.0322 Accuracy 0.8030\n",
            "TRAINING Epoch 40/50 Loss 0.0322 Accuracy 0.8020\n",
            "TRAINING Epoch 41/50 Loss 0.0321 Accuracy 0.8027\n",
            "TRAINING Epoch 42/50 Loss 0.0309 Accuracy 0.8057\n",
            "TRAINING Epoch 43/50 Loss 0.0294 Accuracy 0.8200\n",
            "TRAINING Epoch 44/50 Loss 0.0293 Accuracy 0.8193\n",
            "TRAINING Epoch 45/50 Loss 0.0286 Accuracy 0.8190\n",
            "TRAINING Epoch 46/50 Loss 0.0285 Accuracy 0.8290\n",
            "TRAINING Epoch 47/50 Loss 0.0281 Accuracy 0.8270\n",
            "TRAINING Epoch 48/50 Loss 0.0272 Accuracy 0.8293\n",
            "TRAINING Epoch 49/50 Loss 0.0259 Accuracy 0.8367\n",
            "TRAINING Epoch 50/50 Loss 0.0271 Accuracy 0.8313\n",
            "Finished Training\n",
            "----------\n"
          ]
        }
      ]
    },
    {
      "cell_type": "markdown",
      "metadata": {
        "id": "DEbsnh3a7ljw"
      },
      "source": [
        "# Test"
      ]
    },
    {
      "cell_type": "code",
      "metadata": {
        "id": "4wyYKmQ91woU"
      },
      "source": [
        "def test(model, criterion, repeats=2):\n",
        "  model.eval()\n",
        "  \n",
        "  test_loss = 0.0\n",
        "  test_acc = 0.0\n",
        "  \n",
        "  with torch.no_grad():\n",
        "    for itr in range(repeats):\n",
        "      for batch_idx, (images, labels) in enumerate(dataloaders['test']):\n",
        "        #move to GPU\n",
        "        images, labels = images.cuda(), labels.cuda()\n",
        "\n",
        "        #forward\n",
        "        outputs = model.forward(images)\n",
        "\n",
        "        loss = criterion(outputs, labels)\n",
        "\n",
        "        _, preds = torch.max(outputs.data, 1)\n",
        "\n",
        "        test_loss += loss.item()\n",
        "        test_acc += torch.sum(preds == labels).item()\n",
        "\n",
        "    test_loss /= (dataset_sizes['test']*repeats)\n",
        "    test_acc /= (dataset_sizes['test']*repeats)\n",
        "\n",
        "    print('Test Loss: %.4f Test Accuracy %.4f' % (test_loss, test_acc))\n"
      ],
      "execution_count": null,
      "outputs": []
    },
    {
      "cell_type": "code",
      "metadata": {
        "id": "znXWR6oWyl-B",
        "colab": {
          "base_uri": "https://localhost:8080/"
        },
        "outputId": "ee6832fc-d5c9-4f18-d0f6-01573573d3ac"
      },
      "source": [
        "test(model, criterion)"
      ],
      "execution_count": null,
      "outputs": [
        {
          "output_type": "stream",
          "name": "stdout",
          "text": [
            "Test Loss: 0.0517 Test Accuracy 0.5645\n"
          ]
        }
      ]
    },
    {
      "cell_type": "markdown",
      "metadata": {
        "id": "kNX2g3AYUbM2"
      },
      "source": [
        "# Visualizing the model predictions\n",
        "\n",
        "Only for viusalizing. Nothing to be done here. "
      ]
    },
    {
      "cell_type": "code",
      "metadata": {
        "id": "Zd_lkTdoUaOX"
      },
      "source": [
        "def imshow(inp, title=None):\n",
        "    \"\"\"Imshow for Tensor.\"\"\"\n",
        "    inp = inp.numpy().transpose((1, 2, 0))\n",
        "    inp = np.clip(inp, 0, 1)\n",
        "    plt.imshow(inp)\n",
        "    if title is not None:\n",
        "        plt.title(title)\n",
        "    plt.pause(1)  # pause a bit so that plots are updated\n",
        "    \n",
        "def visualize_model(model, num_images=8):\n",
        "    images_so_far = 0\n",
        "    fig = plt.figure()\n",
        "\n",
        "    for batch_idx, (images, labels) in enumerate(dataloaders['test']):\n",
        "        #move to GPU\n",
        "        images, labels = images.cuda(), labels.cuda()\n",
        "        \n",
        "        outputs = model(images)\n",
        "        \n",
        "        _, preds = torch.max(outputs.data, 1)\n",
        "       \n",
        "\n",
        "        for j in range(images.size()[0]):\n",
        "            images_so_far += 1\n",
        "            ax = plt.subplot(num_images//2, 2, images_so_far)\n",
        "            ax.axis('off')\n",
        "            ax.set_title('class: {} predicted: {}'.format(class_names[labels.data[j]], class_names[preds[j]]))\n",
        "\n",
        "            imshow(images.cpu().data[j])\n",
        "\n",
        "            if images_so_far == num_images:\n",
        "                return"
      ],
      "execution_count": null,
      "outputs": []
    },
    {
      "cell_type": "code",
      "metadata": {
        "id": "sxjSnLKOJsTW",
        "colab": {
          "base_uri": "https://localhost:8080/",
          "height": 633
        },
        "outputId": "db8f71e1-ff3f-4d23-935f-51bf5a613e77"
      },
      "source": [
        "visualize_model(model)"
      ],
      "execution_count": null,
      "outputs": [
        {
          "output_type": "display_data",
          "data": {
            "text/plain": [
              "<Figure size 432x288 with 1 Axes>"
            ],
            "image/png": "[encoded data removed]"
          },
          "metadata": {
            "needs_background": "light"
          }
        },
        {
          "output_type": "display_data",
          "data": {
            "text/plain": [
              "<Figure size 432x288 with 1 Axes>"
            ],
            "image/png": "[encoded data removed]"
          },
          "metadata": {
            "needs_background": "light"
          }
        },
        {
          "output_type": "display_data",
          "data": {
            "text/plain": [
              "<Figure size 432x288 with 1 Axes>"
            ],
            "image/png": "[encoded data removed]"
          },
          "metadata": {
            "needs_background": "light"
          }
        },
        {
          "output_type": "display_data",
          "data": {
            "text/plain": [
              "<Figure size 432x288 with 1 Axes>"
            ],
            "image/png": "[encoded data removed]"
          },
          "metadata": {
            "needs_background": "light"
          }
        },
        {
          "output_type": "display_data",
          "data": {
            "text/plain": [
              "<Figure size 432x288 with 1 Axes>"
            ],
            "image/png": "[encoded data removed]"
          },
          "metadata": {
            "needs_background": "light"
          }
        },
        {
          "output_type": "display_data",
          "data": {
            "text/plain": [
              "<Figure size 432x288 with 1 Axes>"
            ],
            "image/png": "[encoded data removed]"
          },
          "metadata": {
            "needs_background": "light"
          }
        },
        {
          "output_type": "display_data",
          "data": {
            "text/plain": [
              "<Figure size 432x288 with 1 Axes>"
            ],
            "image/png": "[encoded data removed]"
          },
          "metadata": {
            "needs_background": "light"
          }
        },
        {
          "output_type": "display_data",
          "data": {
            "text/plain": [
              "<Figure size 432x288 with 1 Axes>"
            ],
            "image/png": "[encoded data removed]"
          },
          "metadata": {
            "needs_background": "light"
          }
        }
      ]
    }
  ]
}